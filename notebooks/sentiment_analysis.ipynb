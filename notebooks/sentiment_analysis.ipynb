{
 "cells": [
  {
   "cell_type": "code",
   "execution_count": 10,
   "metadata": {},
   "outputs": [
    {
     "name": "stdout",
     "output_type": "stream",
     "text": [
      "Top 10 Games:\n",
      "            id                                    name  yearpublished  rank  \\\n",
      "78536   144585               La pesadilla de mi abuelo           2013     0   \n",
      "104712  249709                         Going Hollywood           1941     0   \n",
      "104713  249710            Munchkin: The Red Dragon Inn           2018     0   \n",
      "104714  249732                      Masters of Gettown           2018     0   \n",
      "104715  249735                      Solo Sonderedition           2018     0   \n",
      "104716  249741  Golden Trivia Cards: Star Trek Edition           1985     0   \n",
      "104717  249743                               Terria 2K           2018     0   \n",
      "104718  249744                                  Gaburu           2018     0   \n",
      "104719  249745                      Gaslands: Wipe Out           2018     0   \n",
      "104720  249749                                  WORDOS           2019     0   \n",
      "\n",
      "        bayesaverage  average  usersrated  is_expansion  abstracts_rank  \\\n",
      "78536            0.0  0.00000           0             0             NaN   \n",
      "104712           0.0  0.00000           0             0             NaN   \n",
      "104713           0.0  7.23750          16             1             NaN   \n",
      "104714           0.0  7.00000           1             0             NaN   \n",
      "104715           0.0  6.55000          10             0             NaN   \n",
      "104716           0.0  5.00000           1             1             NaN   \n",
      "104717           0.0  0.00000           0             0             NaN   \n",
      "104718           0.0  5.38333           6             0             NaN   \n",
      "104719           0.0  5.60714          14             0             NaN   \n",
      "104720           0.0  8.44444          27             0             NaN   \n",
      "\n",
      "        cgs_rank  childrensgames_rank  familygames_rank  partygames_rank  \\\n",
      "78536        NaN                  NaN               NaN              NaN   \n",
      "104712       NaN                  NaN               NaN              NaN   \n",
      "104713       NaN                  NaN               NaN              NaN   \n",
      "104714       NaN                  NaN               NaN              NaN   \n",
      "104715       NaN                  NaN               NaN              NaN   \n",
      "104716       NaN                  NaN               NaN              NaN   \n",
      "104717       NaN                  NaN               NaN              NaN   \n",
      "104718       NaN                  NaN               NaN              NaN   \n",
      "104719       NaN                  NaN               NaN              NaN   \n",
      "104720       NaN                  NaN               NaN              NaN   \n",
      "\n",
      "        strategygames_rank  thematic_rank  wargames_rank  \n",
      "78536                  NaN            NaN            NaN  \n",
      "104712                 NaN            NaN            NaN  \n",
      "104713                 NaN            NaN            NaN  \n",
      "104714                 NaN            NaN            NaN  \n",
      "104715                 NaN            NaN            NaN  \n",
      "104716                 NaN            NaN            NaN  \n",
      "104717                 NaN            NaN            NaN  \n",
      "104718                 NaN            NaN            NaN  \n",
      "104719                 NaN            NaN            NaN  \n",
      "104720                 NaN            NaN            NaN  \n"
     ]
    }
   ],
   "source": [
    "import pandas as pd\n",
    "\n",
    "rankings_file = 'C:/Users/LP5/NLP/data/raw/boardgames_ranks_2024-08-13/boardgames_ranks.csv'  # Adjust the path as needed\n",
    "df_rankings = pd.read_csv(rankings_file)\n",
    "\n",
    "# Extracting the top 10 games based on rank (assuming there's a 'rank' column)\n",
    "top_games = df_rankings.sort_values(by='rank').head(10)\n",
    "\n",
    "\n",
    "print(\"Top 10 Games:\")\n",
    "print(top_games)\n",
    "\n"
   ]
  },
  {
   "cell_type": "code",
   "execution_count": 14,
   "metadata": {},
   "outputs": [],
   "source": [
    "top_games.to_csv('C:/Users/LP5/NLP/data/processed/top_games.csv', index=False)  # Save the top games to a CSV file\n"
   ]
  },
  {
   "cell_type": "markdown",
   "metadata": {},
   "source": [
    "Loading Model"
   ]
  },
  {
   "cell_type": "code",
   "execution_count": 1,
   "metadata": {},
   "outputs": [
    {
     "name": "stdout",
     "output_type": "stream",
     "text": [
      "Requirement already satisfied: huggingface_hub in c:\\users\\lp5\\appdata\\local\\programs\\python\\python311\\lib\\site-packages (0.25.1)\n",
      "Requirement already satisfied: filelock in c:\\users\\lp5\\appdata\\local\\programs\\python\\python311\\lib\\site-packages (from huggingface_hub) (3.13.1)\n",
      "Requirement already satisfied: fsspec>=2023.5.0 in c:\\users\\lp5\\appdata\\local\\programs\\python\\python311\\lib\\site-packages (from huggingface_hub) (2024.2.0)\n",
      "Requirement already satisfied: packaging>=20.9 in c:\\users\\lp5\\appdata\\local\\programs\\python\\python311\\lib\\site-packages (from huggingface_hub) (23.2)\n",
      "Requirement already satisfied: pyyaml>=5.1 in c:\\users\\lp5\\appdata\\local\\programs\\python\\python311\\lib\\site-packages (from huggingface_hub) (6.0.1)\n",
      "Requirement already satisfied: requests in c:\\users\\lp5\\appdata\\local\\programs\\python\\python311\\lib\\site-packages (from huggingface_hub) (2.32.3)\n",
      "Requirement already satisfied: tqdm>=4.42.1 in c:\\users\\lp5\\appdata\\local\\programs\\python\\python311\\lib\\site-packages (from huggingface_hub) (4.66.5)\n",
      "Requirement already satisfied: typing-extensions>=3.7.4.3 in c:\\users\\lp5\\appdata\\local\\programs\\python\\python311\\lib\\site-packages (from huggingface_hub) (4.10.0)\n",
      "Requirement already satisfied: colorama in c:\\users\\lp5\\appdata\\local\\programs\\python\\python311\\lib\\site-packages (from tqdm>=4.42.1->huggingface_hub) (0.4.6)\n",
      "Requirement already satisfied: charset-normalizer<4,>=2 in c:\\users\\lp5\\appdata\\local\\programs\\python\\python311\\lib\\site-packages (from requests->huggingface_hub) (3.3.2)\n",
      "Requirement already satisfied: idna<4,>=2.5 in c:\\users\\lp5\\appdata\\local\\programs\\python\\python311\\lib\\site-packages (from requests->huggingface_hub) (3.6)\n",
      "Requirement already satisfied: urllib3<3,>=1.21.1 in c:\\users\\lp5\\appdata\\local\\programs\\python\\python311\\lib\\site-packages (from requests->huggingface_hub) (2.0.7)\n",
      "Requirement already satisfied: certifi>=2017.4.17 in c:\\users\\lp5\\appdata\\local\\programs\\python\\python311\\lib\\site-packages (from requests->huggingface_hub) (2024.2.2)\n"
     ]
    },
    {
     "name": "stderr",
     "output_type": "stream",
     "text": [
      "\n",
      "[notice] A new release of pip is available: 24.0 -> 24.2\n",
      "[notice] To update, run: python.exe -m pip install --upgrade pip\n"
     ]
    }
   ],
   "source": [
    "!pip install huggingface_hub"
   ]
  },
  {
   "cell_type": "code",
   "execution_count": 4,
   "metadata": {},
   "outputs": [
    {
     "data": {
      "text/plain": [
       "DistilBertForSequenceClassification(\n",
       "  (distilbert): DistilBertModel(\n",
       "    (embeddings): Embeddings(\n",
       "      (word_embeddings): Embedding(30522, 768, padding_idx=0)\n",
       "      (position_embeddings): Embedding(512, 768)\n",
       "      (LayerNorm): LayerNorm((768,), eps=1e-12, elementwise_affine=True)\n",
       "      (dropout): Dropout(p=0.1, inplace=False)\n",
       "    )\n",
       "    (transformer): Transformer(\n",
       "      (layer): ModuleList(\n",
       "        (0-5): 6 x TransformerBlock(\n",
       "          (attention): MultiHeadSelfAttention(\n",
       "            (dropout): Dropout(p=0.1, inplace=False)\n",
       "            (q_lin): Linear(in_features=768, out_features=768, bias=True)\n",
       "            (k_lin): Linear(in_features=768, out_features=768, bias=True)\n",
       "            (v_lin): Linear(in_features=768, out_features=768, bias=True)\n",
       "            (out_lin): Linear(in_features=768, out_features=768, bias=True)\n",
       "          )\n",
       "          (sa_layer_norm): LayerNorm((768,), eps=1e-12, elementwise_affine=True)\n",
       "          (ffn): FFN(\n",
       "            (dropout): Dropout(p=0.1, inplace=False)\n",
       "            (lin1): Linear(in_features=768, out_features=3072, bias=True)\n",
       "            (lin2): Linear(in_features=3072, out_features=768, bias=True)\n",
       "            (activation): GELUActivation()\n",
       "          )\n",
       "          (output_layer_norm): LayerNorm((768,), eps=1e-12, elementwise_affine=True)\n",
       "        )\n",
       "      )\n",
       "    )\n",
       "  )\n",
       "  (pre_classifier): Linear(in_features=768, out_features=768, bias=True)\n",
       "  (classifier): Linear(in_features=768, out_features=2, bias=True)\n",
       "  (dropout): Dropout(p=0.2, inplace=False)\n",
       ")"
      ]
     },
     "execution_count": 4,
     "metadata": {},
     "output_type": "execute_result"
    }
   ],
   "source": [
    "from transformers import DistilBertForSequenceClassification, DistilBertTokenizer\n",
    "# Load the saved model and tokenizer\n",
    "model = DistilBertForSequenceClassification.from_pretrained('D:/NLP/scripts/distilbert-imdb')\n",
    "\n",
    "\n",
    "model.eval()\n"
   ]
  },
  {
   "cell_type": "code",
   "execution_count": 6,
   "metadata": {},
   "outputs": [
    {
     "name": "stdout",
     "output_type": "stream",
     "text": [
      "Collecting langdetect\n",
      "  Downloading langdetect-1.0.9.tar.gz (981 kB)\n",
      "     ---------------------------------------- 0.0/981.5 kB ? eta -:--:--\n",
      "     --------- ---------------------------- 245.8/981.5 kB 5.1 MB/s eta 0:00:01\n",
      "     --------------------- ---------------- 553.0/981.5 kB 5.8 MB/s eta 0:00:01\n",
      "     ------------------------ ------------- 645.1/981.5 kB 5.8 MB/s eta 0:00:01\n",
      "     ------------------------------------ - 942.1/981.5 kB 5.0 MB/s eta 0:00:01\n",
      "     -------------------------------------- 981.5/981.5 kB 4.5 MB/s eta 0:00:00\n",
      "  Preparing metadata (setup.py): started\n",
      "  Preparing metadata (setup.py): finished with status 'done'\n",
      "Requirement already satisfied: six in c:\\users\\lp5\\appdata\\local\\programs\\python\\python311\\lib\\site-packages (from langdetect) (1.16.0)\n",
      "Building wheels for collected packages: langdetect\n",
      "  Building wheel for langdetect (setup.py): started\n",
      "  Building wheel for langdetect (setup.py): finished with status 'done'\n",
      "  Created wheel for langdetect: filename=langdetect-1.0.9-py3-none-any.whl size=993254 sha256=12f75c19f60e6c38a0aecbf43480c098d509ef3ea08c827f95803875a0dfae3f\n",
      "  Stored in directory: c:\\users\\lp5\\appdata\\local\\pip\\cache\\wheels\\0a\\f2\\b2\\e5ca405801e05eb7c8ed5b3b4bcf1fcabcd6272c167640072e\n",
      "Successfully built langdetect\n",
      "Installing collected packages: langdetect\n",
      "Successfully installed langdetect-1.0.9\n"
     ]
    },
    {
     "name": "stderr",
     "output_type": "stream",
     "text": [
      "\n",
      "[notice] A new release of pip is available: 24.0 -> 24.2\n",
      "[notice] To update, run: python.exe -m pip install --upgrade pip\n"
     ]
    }
   ],
   "source": [
    "!pip install langdetect\n"
   ]
  },
  {
   "cell_type": "code",
   "execution_count": 9,
   "metadata": {},
   "outputs": [],
   "source": [
    "import pandas as pd\n",
    "from langdetect import detect, DetectorFactory\n",
    "\n",
    "DetectorFactory.seed = 0\n",
    "\n",
    "comments_df = pd.read_csv('D:/NLP/data/raw/boardgames_comments.csv')\n",
    "\n",
    "# function to detect and filter out only English comments\n",
    "def is_english(comment):\n",
    "    try:\n",
    "        return detect(comment) == 'en'\n",
    "    except:\n",
    "        return False\n",
    "\n",
    "\n",
    "comments_df['is_english'] = comments_df['value'].apply(is_english)\n",
    "english_comments_df = comments_df[comments_df['is_english'] == True]\n",
    "\n",
    "\n",
    "english_comments_df.to_csv('english_comments_bgg.csv', index=False)\n",
    "\n",
    "\n",
    "english_comments_df = english_comments_df.drop(columns=['is_english'])\n",
    "\n",
    "\n"
   ]
  },
  {
   "cell_type": "code",
   "execution_count": 10,
   "metadata": {},
   "outputs": [],
   "source": [
    "from transformers import DistilBertTokenizer\n",
    "\n",
    "# Loading the pre-trained tokenizer directly from Hugging Face\n",
    "tokenizer = DistilBertTokenizer.from_pretrained('distilbert-base-uncased')\n"
   ]
  },
  {
   "cell_type": "code",
   "execution_count": 1,
   "metadata": {},
   "outputs": [
    {
     "name": "stderr",
     "output_type": "stream",
     "text": [
      "c:\\Users\\LP5\\AppData\\Local\\Programs\\Python\\Python311\\Lib\\site-packages\\tqdm\\auto.py:21: TqdmWarning: IProgress not found. Please update jupyter and ipywidgets. See https://ipywidgets.readthedocs.io/en/stable/user_install.html\n",
      "  from .autonotebook import tqdm as notebook_tqdm\n"
     ]
    }
   ],
   "source": [
    "import pandas as pd\n",
    "import torch\n",
    "from transformers import DistilBertTokenizer, DistilBertForSequenceClassification\n",
    "\n",
    "# Loading the tokenizer and model\n",
    "tokenizer = DistilBertTokenizer.from_pretrained('distilbert-base-uncased')\n",
    "model = DistilBertForSequenceClassification.from_pretrained('D:/NLP/scripts/distilbert-imdb')\n",
    "\n",
    "\n",
    "\n",
    "\n",
    "\n",
    "\n",
    "\n",
    "\n"
   ]
  },
  {
   "cell_type": "code",
   "execution_count": 2,
   "metadata": {},
   "outputs": [],
   "source": [
    "comments_df = pd.read_csv('D:/NLP/data/processed/english_comments_bgg.csv')\n",
    "\n",
    "# function to tokenize comments\n",
    "def tokenize_function(examples):\n",
    "    return tokenizer(examples, truncation=True, padding='max_length', max_length=128)\n",
    "\n",
    "# Tokenize the BGG comments\n",
    "comments_df['tokenized'] = comments_df['value'].apply(tokenize_function)\n",
    "\n",
    "comments_df['input_ids'] = comments_df['tokenized'].apply(lambda x: x['input_ids'])\n",
    "comments_df['attention_mask'] = comments_df['tokenized'].apply(lambda x: x['attention_mask'])\n",
    "\n",
    "\n",
    "input_ids = torch.tensor(comments_df['input_ids'].tolist())\n",
    "attention_mask = torch.tensor(comments_df['attention_mask'].tolist())\n"
   ]
  },
  {
   "cell_type": "code",
   "execution_count": 19,
   "metadata": {},
   "outputs": [],
   "source": [
    "device = torch.device(\"cuda\" if torch.cuda.is_available() else \"cpu\")\n",
    "model.to(device)\n",
    "\n",
    "# Move input tensors to the same device as the model\n",
    "input_ids = input_ids.to(device)\n",
    "attention_mask = attention_mask.to(device)"
   ]
  },
  {
   "cell_type": "code",
   "execution_count": 22,
   "metadata": {},
   "outputs": [
    {
     "name": "stderr",
     "output_type": "stream",
     "text": [
      "100%|██████████| 3194/3194 [1:28:48<00:00,  1.67s/it]\n"
     ]
    },
    {
     "name": "stdout",
     "output_type": "stream",
     "text": [
      "Inference completed and results saved!\n"
     ]
    }
   ],
   "source": [
    "import torch\n",
    "from torch.utils.data import DataLoader, TensorDataset\n",
    "from tqdm import tqdm  \n",
    "\n",
    "batch_size = 16\n",
    "\n",
    "# Convert tokenized comments into torch tensors\n",
    "input_ids = torch.tensor([token['input_ids'] for token in comments_df['tokenized']])\n",
    "attention_mask = torch.tensor([token['attention_mask'] for token in comments_df['tokenized']])\n",
    "\n",
    "dataset = TensorDataset(input_ids, attention_mask)\n",
    "dataloader = DataLoader(dataset, batch_size=batch_size)\n",
    "\n",
    "\n",
    "all_predictions = []\n",
    "\n",
    "model.eval()  \n",
    "with torch.no_grad():\n",
    "    for batch in tqdm(dataloader):\n",
    "        batch_input_ids, batch_attention_mask = batch\n",
    "        \n",
    "    \n",
    "        batch_input_ids = batch_input_ids.to('cuda' if torch.cuda.is_available() else 'cpu')\n",
    "        batch_attention_mask = batch_attention_mask.to('cuda' if torch.cuda.is_available() else 'cpu')\n",
    "        \n",
    "        \n",
    "        outputs = model(input_ids=batch_input_ids, attention_mask=batch_attention_mask)\n",
    "        \n",
    "      \n",
    "        logits = outputs.logits\n",
    "        batch_predictions = torch.argmax(logits, dim=-1)\n",
    "   \n",
    "        all_predictions.extend(batch_predictions.cpu().numpy())\n",
    "\n",
    "comments_df['predictions'] = all_predictions\n",
    "\n",
    "# Save the DataFrame with predictions\n",
    "comments_df.to_csv('D:/NLP/data/processed/bgg_comments_with_predictions.csv', index=False)\n",
    "\n",
    "print(\"Inference completed and results saved!\")\n",
    "\n"
   ]
  },
  {
   "cell_type": "code",
   "execution_count": 5,
   "metadata": {},
   "outputs": [
    {
     "name": "stdout",
     "output_type": "stream",
     "text": [
      "Collecting vaderSentiment\n",
      "  Downloading vaderSentiment-3.3.2-py2.py3-none-any.whl.metadata (572 bytes)\n",
      "Requirement already satisfied: requests in c:\\users\\lp5\\appdata\\local\\programs\\python\\python311\\lib\\site-packages (from vaderSentiment) (2.32.3)\n",
      "Requirement already satisfied: charset-normalizer<4,>=2 in c:\\users\\lp5\\appdata\\local\\programs\\python\\python311\\lib\\site-packages (from requests->vaderSentiment) (3.3.2)\n",
      "Requirement already satisfied: idna<4,>=2.5 in c:\\users\\lp5\\appdata\\local\\programs\\python\\python311\\lib\\site-packages (from requests->vaderSentiment) (3.6)\n",
      "Requirement already satisfied: urllib3<3,>=1.21.1 in c:\\users\\lp5\\appdata\\local\\programs\\python\\python311\\lib\\site-packages (from requests->vaderSentiment) (2.0.7)\n",
      "Requirement already satisfied: certifi>=2017.4.17 in c:\\users\\lp5\\appdata\\local\\programs\\python\\python311\\lib\\site-packages (from requests->vaderSentiment) (2024.2.2)\n",
      "Downloading vaderSentiment-3.3.2-py2.py3-none-any.whl (125 kB)\n",
      "   ---------------------------------------- 0.0/126.0 kB ? eta -:--:--\n",
      "   --- ------------------------------------ 10.2/126.0 kB ? eta -:--:--\n",
      "   --- ------------------------------------ 10.2/126.0 kB ? eta -:--:--\n",
      "   --------- ----------------------------- 30.7/126.0 kB 325.1 kB/s eta 0:00:01\n",
      "   ------------------- ------------------- 61.4/126.0 kB 409.6 kB/s eta 0:00:01\n",
      "   -------------------------------------  122.9/126.0 kB 654.9 kB/s eta 0:00:01\n",
      "   -------------------------------------- 126.0/126.0 kB 570.0 kB/s eta 0:00:00\n",
      "Installing collected packages: vaderSentiment\n",
      "Successfully installed vaderSentiment-3.3.2\n"
     ]
    },
    {
     "name": "stderr",
     "output_type": "stream",
     "text": [
      "\n",
      "[notice] A new release of pip is available: 24.0 -> 24.2\n",
      "[notice] To update, run: python.exe -m pip install --upgrade pip\n"
     ]
    }
   ],
   "source": [
    "!pip install vaderSentiment\n"
   ]
  },
  {
   "cell_type": "code",
   "execution_count": 7,
   "metadata": {},
   "outputs": [
    {
     "name": "stdout",
     "output_type": "stream",
     "text": [
      "Accuracy: 0.7291\n",
      "Precision: 0.7439\n",
      "Recall: 0.7291\n",
      "F1 Score: 0.7351\n",
      "\n",
      "Classification Report:\n",
      "               precision    recall  f1-score   support\n",
      "\n",
      "           0       0.51      0.59      0.54     14028\n",
      "           1       0.83      0.78      0.81     37066\n",
      "\n",
      "    accuracy                           0.73     51094\n",
      "   macro avg       0.67      0.69      0.68     51094\n",
      "weighted avg       0.74      0.73      0.74     51094\n",
      "\n"
     ]
    }
   ],
   "source": [
    "import pandas as pd\n",
    "import torch\n",
    "from sklearn.metrics import accuracy_score, precision_score, recall_score, f1_score, classification_report\n",
    "from vaderSentiment.vaderSentiment import SentimentIntensityAnalyzer\n",
    "\n",
    "comments_df = pd.read_csv('D:/NLP/data/processed/bgg_comments_with_predictions.csv')\n",
    "\n",
    "# Initializing VADER Sentiment Analyzer\n",
    "analyzer = SentimentIntensityAnalyzer()\n",
    "\n",
    "# Function to get sentiment labels using VADER (only 2 classes: Positive and Negative)\n",
    "def vader_sentiment_pseudo_label(comment):\n",
    "    score = analyzer.polarity_scores(comment)\n",
    "    if score['compound'] >= 0.05:\n",
    "        return 1  # Positive\n",
    "    else:\n",
    "        return 0  # Negative\n",
    "\n",
    "\n",
    "# pseudo labels using VADER\n",
    "comments_df['pseudo_labels'] = comments_df['value'].apply(vader_sentiment_pseudo_label)\n",
    "\n",
    "# Geting predictions from your model (already computed)\n",
    "predictions = comments_df['predictions']\n",
    "\n",
    "# Geting pseudo labels generated by VADER\n",
    "pseudo_labels = comments_df['pseudo_labels']\n",
    "\n",
    "# Calculate evaluation metrics\n",
    "accuracy = accuracy_score(pseudo_labels, predictions)\n",
    "precision = precision_score(pseudo_labels, predictions, average='weighted')\n",
    "recall = recall_score(pseudo_labels, predictions, average='weighted')\n",
    "f1 = f1_score(pseudo_labels, predictions, average='weighted')\n",
    "\n",
    "\n",
    "print(f'Accuracy: {accuracy:.4f}')\n",
    "print(f'Precision: {precision:.4f}')\n",
    "print(f'Recall: {recall:.4f}')\n",
    "print(f'F1 Score: {f1:.4f}')\n",
    "\n",
    "# confusion matrix and classification report\n",
    "print('\\nClassification Report:\\n', classification_report(pseudo_labels, predictions))\n",
    "\n",
    "# Save evaluation results to a text file (optional)\n",
    "with open('D:/NLP/data/processed/evaluation_results.txt', 'w') as f:\n",
    "    f.write(f'Accuracy: {accuracy:.4f}\\n')\n",
    "    f.write(f'Precision: {precision:.4f}\\n')\n",
    "    f.write(f'Recall: {recall:.4f}\\n')\n",
    "    f.write(f'F1 Score: {f1:.4f}\\n')\n"
   ]
  },
  {
   "cell_type": "code",
   "execution_count": 3,
   "metadata": {},
   "outputs": [
    {
     "name": "stdout",
     "output_type": "stream",
     "text": [
      "Training Data:\n",
      "        Unnamed: 0       username  rating  \\\n",
      "23094        5335         Tikron     9.5   \n",
      "42639        2131      maras2002     8.0   \n",
      "21149        2636      Jmarkmoss     7.0   \n",
      "4851          532           Ax0r     9.0   \n",
      "12181        1838   Cpscblackout    10.0   \n",
      "...           ...            ...     ...   \n",
      "11284         710         bagrar     7.0   \n",
      "44732        1231     DrStranger     9.0   \n",
      "38158       10242  PrimogenGames     6.0   \n",
      "860          1278    danperrault     6.5   \n",
      "15795        6437      mmasloski     NaN   \n",
      "\n",
      "                                                   value  boardgame_id  \\\n",
      "23094  Tableau building for 2-4 players. Each player ...        342942   \n",
      "42639      Seems to be complex but this is what I like!         115746   \n",
      "21149  One play, need more!! 01/10/23  3 plays, reall...        342942   \n",
      "4851                      Completed, harvested for parts        161936   \n",
      "12181  Obviously deserving of its #1 spot, Gloomhaven...        174430   \n",
      "...                                                  ...           ...   \n",
      "11284  Was a 10  years pass by 10  it is getting old ...        174430   \n",
      "44732  Very solid, tense gameplay throughout the time...        187645   \n",
      "38158  The concept of this game is very cool.  The id...        167791   \n",
      "860    For me the game is too restrictive.  I enjoy m...        224517   \n",
      "15795  Can you believe I've had this for a few months...        174430   \n",
      "\n",
      "       is_english                    tokenized  \\\n",
      "23094        True  [input_ids, attention_mask]   \n",
      "42639        True  [input_ids, attention_mask]   \n",
      "21149        True  [input_ids, attention_mask]   \n",
      "4851         True  [input_ids, attention_mask]   \n",
      "12181        True  [input_ids, attention_mask]   \n",
      "...           ...                          ...   \n",
      "11284        True  [input_ids, attention_mask]   \n",
      "44732        True  [input_ids, attention_mask]   \n",
      "38158        True  [input_ids, attention_mask]   \n",
      "860          True  [input_ids, attention_mask]   \n",
      "15795        True  [input_ids, attention_mask]   \n",
      "\n",
      "                                               input_ids  \\\n",
      "23094  [101, 2795, 4887, 2311, 2005, 1016, 1011, 1018...   \n",
      "42639  [101, 3849, 2000, 2022, 3375, 2021, 2023, 2003...   \n",
      "21149  [101, 2028, 2377, 1010, 2342, 2062, 999, 999, ...   \n",
      "4851   [101, 2949, 1010, 22629, 2005, 3033, 102, 0, 0...   \n",
      "12181  [101, 5525, 4078, 25164, 1997, 2049, 1001, 101...   \n",
      "...                                                  ...   \n",
      "11284  [101, 2001, 1037, 2184, 2086, 3413, 2011, 2184...   \n",
      "44732  [101, 2200, 5024, 1010, 9049, 11247, 2802, 199...   \n",
      "38158  [101, 1996, 4145, 1997, 2023, 2208, 2003, 2200...   \n",
      "860    [101, 2005, 2033, 1996, 2208, 2003, 2205, 2598...   \n",
      "15795  [101, 2064, 2017, 2903, 1045, 1005, 2310, 2018...   \n",
      "\n",
      "                                          attention_mask  \\\n",
      "23094  [1, 1, 1, 1, 1, 1, 1, 1, 1, 1, 1, 1, 1, 1, 1, ...   \n",
      "42639  [1, 1, 1, 1, 1, 1, 1, 1, 1, 1, 1, 1, 1, 0, 0, ...   \n",
      "21149  [1, 1, 1, 1, 1, 1, 1, 1, 1, 1, 1, 1, 1, 1, 1, ...   \n",
      "4851   [1, 1, 1, 1, 1, 1, 1, 0, 0, 0, 0, 0, 0, 0, 0, ...   \n",
      "12181  [1, 1, 1, 1, 1, 1, 1, 1, 1, 1, 1, 1, 1, 1, 1, ...   \n",
      "...                                                  ...   \n",
      "11284  [1, 1, 1, 1, 1, 1, 1, 1, 1, 1, 1, 1, 1, 1, 1, ...   \n",
      "44732  [1, 1, 1, 1, 1, 1, 1, 1, 1, 1, 1, 1, 1, 1, 1, ...   \n",
      "38158  [1, 1, 1, 1, 1, 1, 1, 1, 1, 1, 1, 1, 1, 1, 1, ...   \n",
      "860    [1, 1, 1, 1, 1, 1, 1, 1, 1, 1, 1, 1, 1, 1, 1, ...   \n",
      "15795  [1, 1, 1, 1, 1, 1, 1, 1, 1, 1, 1, 1, 1, 1, 1, ...   \n",
      "\n",
      "            Extracted_Aspects  \n",
      "23094                      []  \n",
      "42639  [COMPLICATED, COMPLEX]  \n",
      "21149                      []  \n",
      "4851                       []  \n",
      "12181           [COMPLICATED]  \n",
      "...                       ...  \n",
      "11284                      []  \n",
      "44732                      []  \n",
      "38158         [LUCK, COMPLEX]  \n",
      "860                        []  \n",
      "15795                      []  \n",
      "\n",
      "[40875 rows x 10 columns]\n",
      "Testing Data:\n",
      "        Unnamed: 0        username  rating  \\\n",
      "49091        2218  JohnnySchmaser     8.0   \n",
      "50324        3930     Secondguess     7.0   \n",
      "34655        5332         Hawkens    10.0   \n",
      "47510        4945            _tk_     5.0   \n",
      "19550         368   Autonomiczer0     8.5   \n",
      "...           ...             ...     ...   \n",
      "46202        3216      ninomili05     NaN   \n",
      "38013       10036        PiggDogg    10.0   \n",
      "9571         6552          SK00MA    10.0   \n",
      "14398        4635         jklaiho    10.0   \n",
      "9235         6133          rossty     8.0   \n",
      "\n",
      "                                                   value  boardgame_id  \\\n",
      "49091  Well organized but everything barely fits back...        291457   \n",
      "50324                     1-4 Player Cooperative 60 mins        291457   \n",
      "34655  One of my favorite newer games - enjoyed it a ...        167791   \n",
      "47510        Too long for the big effect randomness has.        187645   \n",
      "19550  Very Terraforming Mars-esx game.  Has some coo...        342942   \n",
      "...                                                  ...           ...   \n",
      "46202                                  92. SyFy Strategy        187645   \n",
      "38013  --- This is a quite nice production-type game....        167791   \n",
      "9571    What journey this game is. Loved the experience.        161936   \n",
      "14398  Play an individual mission of Gloomhaven witho...        174430   \n",
      "9235   Setup is a little too fiddly, but the rest is ...        161936   \n",
      "\n",
      "       is_english                    tokenized  \\\n",
      "49091        True  [input_ids, attention_mask]   \n",
      "50324        True  [input_ids, attention_mask]   \n",
      "34655        True  [input_ids, attention_mask]   \n",
      "47510        True  [input_ids, attention_mask]   \n",
      "19550        True  [input_ids, attention_mask]   \n",
      "...           ...                          ...   \n",
      "46202        True  [input_ids, attention_mask]   \n",
      "38013        True  [input_ids, attention_mask]   \n",
      "9571         True  [input_ids, attention_mask]   \n",
      "14398        True  [input_ids, attention_mask]   \n",
      "9235         True  [input_ids, attention_mask]   \n",
      "\n",
      "                                               input_ids  \\\n",
      "49091  [101, 2092, 4114, 2021, 2673, 4510, 16142, 206...   \n",
      "50324  [101, 1015, 1011, 1018, 2447, 10791, 3438, 811...   \n",
      "34655  [101, 2028, 1997, 2026, 5440, 10947, 2399, 101...   \n",
      "47510  [101, 2205, 2146, 2005, 1996, 2502, 3466, 6721...   \n",
      "19550  [101, 2200, 14403, 14192, 2075, 7733, 1011, 96...   \n",
      "...                                                  ...   \n",
      "46202  [101, 6227, 1012, 25353, 12031, 5656, 102, 0, ...   \n",
      "38013  [101, 1011, 1011, 1011, 2023, 2003, 1037, 3243...   \n",
      "9571   [101, 2054, 4990, 2023, 2208, 2003, 1012, 3866...   \n",
      "14398  [101, 2377, 2019, 3265, 3260, 1997, 24067, 146...   \n",
      "9235   [101, 16437, 2003, 1037, 2210, 2205, 10882, 14...   \n",
      "\n",
      "                                          attention_mask Extracted_Aspects  \n",
      "49091  [1, 1, 1, 1, 1, 1, 1, 1, 1, 1, 1, 1, 1, 1, 1, ...                []  \n",
      "50324  [1, 1, 1, 1, 1, 1, 1, 1, 1, 1, 0, 0, 0, 0, 0, ...                []  \n",
      "34655  [1, 1, 1, 1, 1, 1, 1, 1, 1, 1, 1, 1, 1, 1, 1, ...                []  \n",
      "47510  [1, 1, 1, 1, 1, 1, 1, 1, 1, 1, 1, 1, 0, 0, 0, ...                []  \n",
      "19550  [1, 1, 1, 1, 1, 1, 1, 1, 1, 1, 1, 1, 1, 1, 1, ...                []  \n",
      "...                                                  ...               ...  \n",
      "46202  [1, 1, 1, 1, 1, 1, 1, 0, 0, 0, 0, 0, 0, 0, 0, ...                []  \n",
      "38013  [1, 1, 1, 1, 1, 1, 1, 1, 1, 1, 1, 1, 1, 1, 1, ...                []  \n",
      "9571   [1, 1, 1, 1, 1, 1, 1, 1, 1, 1, 1, 1, 0, 0, 0, ...                []  \n",
      "14398  [1, 1, 1, 1, 1, 1, 1, 1, 1, 1, 1, 1, 1, 1, 1, ...                []  \n",
      "9235   [1, 1, 1, 1, 1, 1, 1, 1, 1, 1, 1, 1, 1, 1, 1, ...                []  \n",
      "\n",
      "[10219 rows x 10 columns]\n"
     ]
    }
   ],
   "source": [
    "import pandas as pd\n",
    "from sklearn.model_selection import train_test_split\n",
    "\n",
    "\n",
    "data = comments_df\n",
    "\n",
    "\n",
    "aspects_with_synonyms = {\n",
    "    'LUCK': ['fortune', 'chance', 'fate', 'destiny'],\n",
    "    'BOOKKEEPING': ['accounting', 'record-keeping', 'financial management'],\n",
    "    'DOWNTIME': ['break', 'pause', 'idle time'],\n",
    "    'INTERACTION': ['engagement', 'communication', 'contact'],\n",
    "    'BASH THE LEADER': ['criticize', 'attack', 'denounce'],\n",
    "    'COMPLICATED': ['complex', 'intricate', 'confusing', 'difficult'],\n",
    "    'COMPLEX': ['complicated', 'sophisticated', 'elaborate', 'involved']\n",
    "}\n",
    "\n",
    "# Function to extract aspects\n",
    "def extract_aspects(comment, aspects_dict):\n",
    "    found_aspects = []\n",
    "    for aspect, synonyms in aspects_dict.items():\n",
    "        # Check if aspect or any of its synonyms is in the comment\n",
    "        if aspect.lower() in comment.lower() or any(syn.lower() in comment.lower() for syn in synonyms):\n",
    "            found_aspects.append(aspect)\n",
    "    return found_aspects\n",
    "\n",
    "data['Extracted_Aspects'] = data['value'].apply(lambda x: extract_aspects(x, aspects_with_synonyms))\n",
    "\n",
    "# Drop rows with NaN in 'Extracted_Aspects'\n",
    "data = data.dropna(subset=['Extracted_Aspects'])\n",
    "\n",
    "# Split the dataset into training and testing sets\n",
    "train_data, test_data = train_test_split(data, test_size=0.2, random_state=42)\n",
    "\n",
    "\n",
    "print(\"Training Data:\\n\", train_data)\n",
    "print(\"Testing Data:\\n\", test_data)\n"
   ]
  },
  {
   "cell_type": "code",
   "execution_count": 27,
   "metadata": {},
   "outputs": [
    {
     "data": {
      "image/png": "[encoded data removed]",
      "text/plain": [
       "<Figure size 1000x600 with 1 Axes>"
      ]
     },
     "metadata": {},
     "output_type": "display_data"
    }
   ],
   "source": [
    "import pandas as pd\n",
    "import matplotlib.pyplot as plt\n",
    "\n",
    "# Count the occurrences of each aspect\n",
    "aspect_counts = data['Extracted_Aspects'].explode().value_counts()\n",
    "\n",
    "# Plotting\n",
    "plt.figure(figsize=(10, 6))\n",
    "aspect_counts.plot(kind='bar', color='skyblue')\n",
    "plt.title('Number of Comments Against Each Aspect')\n",
    "plt.xlabel('Aspects')\n",
    "plt.ylabel('Number of Comments')\n",
    "plt.xticks(rotation=45)\n",
    "plt.grid(axis='y', linestyle='--')\n",
    "plt.tight_layout()  # Adjust layout to make room for labels\n",
    "plt.show()\n"
   ]
  },
  {
   "cell_type": "code",
   "execution_count": 5,
   "metadata": {},
   "outputs": [
    {
     "name": "stdout",
     "output_type": "stream",
     "text": [
      "                                                   value  Extracted_Aspects  \\\n",
      "0      SLEEVED[IMG]https://cf.geekdo-static.com/mbs/m...                 []   \n",
      "1      Great game, full controllo of your strategy th...                 []   \n",
      "2                                          Location: MSK                 []   \n",
      "3      Very clever game, enjoyable overall.  Plus poi...   [LUCK, DOWNTIME]   \n",
      "4      Brilliant!  Fits right into my wheelhouse all ...      [INTERACTION]   \n",
      "...                                                  ...                ...   \n",
      "51089                       Nice for young / new players                 []   \n",
      "51090  Only played the beginning scenarios with my el...                 []   \n",
      "51091            Cooperative Legacy (2P-3P) ✓ Completion                 []   \n",
      "51092  Too hard under the rules in the game and a bit...  [BASH THE LEADER]   \n",
      "51093                              Fiddly and repetitive                 []   \n",
      "\n",
      "                                  Aspect_Sentiments  \n",
      "0                                                {}  \n",
      "1                                                {}  \n",
      "2                                                {}  \n",
      "3      {'LUCK': 'positive', 'DOWNTIME': 'positive'}  \n",
      "4                       {'INTERACTION': 'positive'}  \n",
      "...                                             ...  \n",
      "51089                                            {}  \n",
      "51090                                            {}  \n",
      "51091                                            {}  \n",
      "51092               {'BASH THE LEADER': 'negative'}  \n",
      "51093                                            {}  \n",
      "\n",
      "[51094 rows x 3 columns]\n"
     ]
    }
   ],
   "source": [
    "# Function to get sentiment for each comment and its aspects\n",
    "def get_aspect_sentiment(comment_inputs, aspect):\n",
    "    # Perform inference with the DistilBERT model\n",
    "    with torch.no_grad():\n",
    "        outputs = model(input_ids=comment_inputs['input_ids'], attention_mask=comment_inputs['attention_mask'])\n",
    "        sentiment = torch.argmax(outputs.logits, dim=1).item()\n",
    "        return \"positive\" if sentiment == 1 else \"negative\"\n",
    "\n",
    "\n",
    "aspect_sentiments = []\n",
    "for idx, row in comments_df.iterrows():\n",
    "    comment_inputs = {\n",
    "        'input_ids': input_ids[idx].unsqueeze(0),  # Prepare batch of size 1 for each comment\n",
    "        'attention_mask': attention_mask[idx].unsqueeze(0)\n",
    "    }\n",
    "    sentiments = {aspect: get_aspect_sentiment(comment_inputs, aspect) for aspect in row['Extracted_Aspects']}\n",
    "    aspect_sentiments.append(sentiments)\n",
    "\n",
    "\n",
    "comments_df['Aspect_Sentiments'] = aspect_sentiments\n",
    "\n",
    "print(comments_df[['value', 'Extracted_Aspects', 'Aspect_Sentiments']])\n"
   ]
  },
  {
   "cell_type": "code",
   "execution_count": 6,
   "metadata": {},
   "outputs": [],
   "source": [
    "comments_df[['value', 'Extracted_Aspects', 'Aspect_Sentiments']].to_csv('comments_with_aspect_sentiments.csv', index=False)\n"
   ]
  },
  {
   "cell_type": "code",
   "execution_count": 9,
   "metadata": {},
   "outputs": [
    {
     "data": {
      "image/png": "[encoded data removed]",
      "text/plain": [
       "<Figure size 1000x600 with 1 Axes>"
      ]
     },
     "metadata": {},
     "output_type": "display_data"
    }
   ],
   "source": [
    "sentiment_counts = aspect_sentiment_flat.groupby(['Aspect', 'Sentiment']).size().unstack().fillna(0)\n",
    "import matplotlib.pyplot as plt\n",
    "\n",
    "# Plot the sentiment counts per aspect\n",
    "sentiment_counts.plot(kind='bar', stacked=False, color=['lightblue', 'salmon'], figsize=(10, 6))\n",
    "plt.title('Positive and Negative Comments per Aspect')\n",
    "plt.xlabel('Aspects')\n",
    "plt.ylabel('Number of Comments')\n",
    "plt.xticks(rotation=45)\n",
    "plt.legend(title='Sentiment')\n",
    "plt.tight_layout()\n",
    "plt.show()\n"
   ]
  }
 ],
 "metadata": {
  "kernelspec": {
   "display_name": "Python 3",
   "language": "python",
   "name": "python3"
  },
  "language_info": {
   "codemirror_mode": {
    "name": "ipython",
    "version": 3
   },
   "file_extension": ".py",
   "mimetype": "text/x-python",
   "name": "python",
   "nbconvert_exporter": "python",
   "pygments_lexer": "ipython3",
   "version": "3.11.8"
  }
 },
 "nbformat": 4,
 "nbformat_minor": 2
}
